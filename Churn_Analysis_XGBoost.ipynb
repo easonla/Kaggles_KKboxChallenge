{
 "cells": [
  {
   "cell_type": "markdown",
   "metadata": {},
   "source": [
    "### Table of Content\n",
    "##### [1.Loading Data](#loaddata)\n",
    "\n",
    "[1.1Transaction Data](#transc_data)\n",
    "\n",
    "[1.2Memeber Data](#memb_data)\n",
    "\n",
    "[1.3User Logs](#user_log)\n",
    "\n",
    "[2.Feature Engineering](#feature)\n",
    "\n",
    "[3.Simple Modeling](#simplemodel)\n",
    "\n",
    "[4.Ensemble Modeling](#ensmbmodel)"
   ]
  },
  {
   "cell_type": "code",
   "execution_count": 1,
   "metadata": {},
   "outputs": [],
   "source": [
    "%matplotlib inline\n",
    "import pandas as pd\n",
    "import numpy as np\n",
    "import seaborn as sns\n",
    "import matplotlib.pyplot as plt"
   ]
  },
  {
   "cell_type": "code",
   "execution_count": 2,
   "metadata": {},
   "outputs": [
    {
     "name": "stdout",
     "output_type": "stream",
     "text": [
      "read training set, test set\n"
     ]
    }
   ],
   "source": [
    "print (\"read training set, test set\")\n",
    "train = pd.read_csv('data/train_v2.csv').set_index('msno')\n",
    "test = pd.read_csv('data/sample_submission_v2.csv').set_index('msno')\n",
    "test['is_churn'] = np.nan"
   ]
  },
  {
   "cell_type": "code",
   "execution_count": 3,
   "metadata": {},
   "outputs": [
    {
     "name": "stdout",
     "output_type": "stream",
     "text": [
      "read trasaction set, test set\n",
      "total transaction entities 22978755\n",
      "columns name\n",
      "Index(['payment_method_id', 'payment_plan_days', 'plan_list_price',\n",
      "       'actual_amount_paid', 'is_auto_renew', 'transaction_date',\n",
      "       'membership_expire_date', 'is_cancel'],\n",
      "      dtype='object')\n"
     ]
    }
   ],
   "source": [
    "print (\"read trasaction set, test set\")\n",
    "transc1 = pd.read_csv('data/transactions.csv',parse_dates=['transaction_date','membership_expire_date']).set_index('msno')\n",
    "transc2 = pd.read_csv('data/transactions_v2.csv',parse_dates=['transaction_date','membership_expire_date']).set_index('msno')\n",
    "transc = pd.concat([transc1,transc2],axis=0,ignore_index=False)\n",
    "print ('total transaction entities {:d}'.format(transc.shape[0]))\n",
    "print ('columns name')\n",
    "print (transc.columns)"
   ]
  },
  {
   "cell_type": "code",
   "execution_count": 4,
   "metadata": {
    "collapsed": true
   },
   "outputs": [],
   "source": [
    "def add_transaction_count(data,transc):\n",
    "    print ('adding_transaction_count...')\n",
    "    temp = (transc1['transaction_date'].reset_index().groupby('msno').count()\n",
    "            .rename(index=str,columns={'transaction_date':'transc_counts'}))\n",
    "    data = pd.merge(data,temp,left_index=True,right_index=True,how='left')\n",
    "    return data\n",
    "def add_last_transc_days_from_now(data,transc,end_date):\n",
    "    print ('adding_last_transc_days_from_now...')\n",
    "    temp = (transc['transaction_date'].reset_index().sort_values('transaction_date')\n",
    "            .drop_duplicates('msno',keep='last').set_index('msno')\n",
    "            .rename(index=str,columns={'transaction_date':'latest_transc_date'}))\n",
    "    temp['end_date'] = end_date\n",
    "    temp['days_since_last_transc'] = (temp.end_date-temp.latest_transc_date).dt.days\n",
    "    data = pd.merge(data,temp['days_since_last_transc'].to_frame(),left_index=True,right_index=True,how='left')\n",
    "    return data\n",
    "def add_first_transc_days_from_now(data,transc,end_date):\n",
    "    print ('adding_first_transc_days_from_now...')\n",
    "    temp = (transc['transaction_date'].reset_index().sort_values('transaction_date')\n",
    "            .drop_duplicates('msno',keep='first').set_index('msno')\n",
    "            .rename(index=str,columns={'transaction_date':'first_transc_date'}))\n",
    "    temp['end_date'] = end_date\n",
    "    temp['days_since_first_transc'] = (temp.end_date-temp.first_transc_date).dt.days\n",
    "    data = pd.merge(data,temp['days_since_first_transc'].to_frame(),left_index=True,right_index=True,how='left')    \n",
    "    return data\n",
    "def add_member_expire_days_from_now(data,transc,end_date):\n",
    "    print ('adding_member_expire_from_now...')\n",
    "    temp = (transc['membership_expire_date'].reset_index().sort_values('membership_expire_date')\n",
    "            .drop_duplicates('msno',keep='last').set_index('msno'))\n",
    "    temp['end_date'] = end_date\n",
    "    temp['days_till_member_expire'] = (temp.membership_expire_date-temp.end_date).dt.days\n",
    "    data = pd.merge(data,temp['days_till_member_expire'].to_frame(),left_index=True,right_index=True,how='left')  \n",
    "    return data\n",
    "def add_latest_transaction_features(data,transc):\n",
    "    print ('adding_transaction_features...')\n",
    "    temp = (transc.reset_index().sort_values('transaction_date')\n",
    "            .drop_duplicates('msno',keep='last').set_index('msno'))\n",
    "    data = pd.merge(data,temp,left_index=True,right_index=True,how='left')  \n",
    "    data = data.drop(columns=['membership_expire_date','transaction_date'])\n",
    "    return data"
   ]
  },
  {
   "cell_type": "code",
   "execution_count": 5,
   "metadata": {},
   "outputs": [
    {
     "name": "stdout",
     "output_type": "stream",
     "text": [
      "merge trainsaction data...\n",
      "adding_member_expire_from_now...\n",
      "adding_transaction_count...\n",
      "adding_last_transc_days_from_now...\n",
      "adding_first_transc_days_from_now...\n",
      "adding_transaction_features...\n",
      "adding_member_expire_from_now...\n",
      "adding_transaction_count...\n",
      "adding_last_transc_days_from_now...\n",
      "adding_first_transc_days_from_now...\n",
      "adding_transaction_features...\n"
     ]
    }
   ],
   "source": [
    "from datetime import datetime\n",
    "train_end = datetime(year=2017,month=2,day=28)\n",
    "test_end = datetime(year=2017,month=3,day=31)\n",
    "print ('merge trainsaction data...')\n",
    "data = [train,test]\n",
    "trans = [transc1,transc]\n",
    "end_date = [train_end,test_end]\n",
    "for i in range(2):\n",
    "    data[i] = add_member_expire_days_from_now(data[i],trans[i],end_date[i])\n",
    "    data[i] = add_transaction_count(data[i],trans[i])\n",
    "    data[i] = add_last_transc_days_from_now(data[i],trans[i],end_date[i])\n",
    "    data[i] = add_first_transc_days_from_now(data[i],trans[i],end_date[i])\n",
    "    data[i] = add_latest_transaction_features(data[i],trans[i])"
   ]
  },
  {
   "cell_type": "code",
   "execution_count": 6,
   "metadata": {
    "collapsed": true
   },
   "outputs": [],
   "source": [
    "train_data = data[0].dropna()\n",
    "test_data = data[0].dropna()"
   ]
  },
  {
   "cell_type": "markdown",
   "metadata": {},
   "source": [
    "### Load Member data"
   ]
  },
  {
   "cell_type": "code",
   "execution_count": 7,
   "metadata": {},
   "outputs": [
    {
     "name": "stdout",
     "output_type": "stream",
     "text": [
      "total member data entities 1076941\n",
      "Index(['city', 'bd', 'gender', 'registered_via', 'registration_init_time'], dtype='object')\n",
      "city                      120376\n",
      "bd                        120376\n",
      "gender                    641415\n",
      "registered_via            120376\n",
      "registration_init_time    120376\n",
      "dtype: int64\n"
     ]
    }
   ],
   "source": [
    "member = pd.read_csv('data/members_v3.csv',parse_dates=['registration_init_time'])\n",
    "all_member = pd.concat([train,test],axis=0).reset_index().drop_duplicates('msno').drop(columns=['is_churn'])\n",
    "all_member = pd.merge(all_member,member,on='msno',how='left').set_index('msno')\n",
    "print (\"total member data entities {:d}\".format(all_member.shape[0]))\n",
    "print (all_member.columns)\n",
    "print (all_member.isnull().sum())"
   ]
  },
  {
   "cell_type": "code",
   "execution_count": 8,
   "metadata": {
    "collapsed": true
   },
   "outputs": [],
   "source": [
    "#filling missing value\n",
    "all_member.loc[(all_member.bd>100) | (all_member.bd<0) | all_member.bd.isnull(),'bd'] = 0\n",
    "all_member.loc[all_member.city.isnull(),'city'] = all_member.city.value_counts().index[0]\n",
    "all_member.loc[all_member.registered_via.isnull(),'registered_via'] = all_member.registered_via.value_counts().index[0]\n",
    "all_member.loc[all_member.gender.isnull(),'gender']='unknow'\n",
    "all_member = all_member.drop(columns=['registration_init_time'])"
   ]
  },
  {
   "cell_type": "code",
   "execution_count": 9,
   "metadata": {
    "collapsed": true
   },
   "outputs": [],
   "source": [
    "train_data = pd.merge(train_data,all_member,right_index=True,left_index=True,how='left')\n",
    "test_data = pd.merge(test_data,all_member,right_index=True,left_index=True,how='left')"
   ]
  },
  {
   "cell_type": "code",
   "execution_count": 10,
   "metadata": {},
   "outputs": [
    {
     "data": {
      "text/html": [
       "<div>\n",
       "<style scoped>\n",
       "    .dataframe tbody tr th:only-of-type {\n",
       "        vertical-align: middle;\n",
       "    }\n",
       "\n",
       "    .dataframe tbody tr th {\n",
       "        vertical-align: top;\n",
       "    }\n",
       "\n",
       "    .dataframe thead th {\n",
       "        text-align: right;\n",
       "    }\n",
       "</style>\n",
       "<table border=\"1\" class=\"dataframe\">\n",
       "  <thead>\n",
       "    <tr style=\"text-align: right;\">\n",
       "      <th></th>\n",
       "      <th>is_churn</th>\n",
       "      <th>days_till_member_expire</th>\n",
       "      <th>transc_counts</th>\n",
       "      <th>days_since_last_transc</th>\n",
       "      <th>days_since_first_transc</th>\n",
       "      <th>payment_method_id</th>\n",
       "      <th>payment_plan_days</th>\n",
       "      <th>plan_list_price</th>\n",
       "      <th>actual_amount_paid</th>\n",
       "      <th>is_auto_renew</th>\n",
       "      <th>is_cancel</th>\n",
       "      <th>city</th>\n",
       "      <th>bd</th>\n",
       "      <th>gender</th>\n",
       "      <th>registered_via</th>\n",
       "    </tr>\n",
       "    <tr>\n",
       "      <th>msno</th>\n",
       "      <th></th>\n",
       "      <th></th>\n",
       "      <th></th>\n",
       "      <th></th>\n",
       "      <th></th>\n",
       "      <th></th>\n",
       "      <th></th>\n",
       "      <th></th>\n",
       "      <th></th>\n",
       "      <th></th>\n",
       "      <th></th>\n",
       "      <th></th>\n",
       "      <th></th>\n",
       "      <th></th>\n",
       "      <th></th>\n",
       "    </tr>\n",
       "  </thead>\n",
       "  <tbody>\n",
       "    <tr>\n",
       "      <th>ugx0CjOMzazClkFzU2xasmDZaoIqOUAZPsH1q0teWCg=</th>\n",
       "      <td>1</td>\n",
       "      <td>30.0</td>\n",
       "      <td>6.0</td>\n",
       "      <td>0.0</td>\n",
       "      <td>700.0</td>\n",
       "      <td>38.0</td>\n",
       "      <td>30.0</td>\n",
       "      <td>149.0</td>\n",
       "      <td>149.0</td>\n",
       "      <td>0.0</td>\n",
       "      <td>0.0</td>\n",
       "      <td>5.0</td>\n",
       "      <td>28.0</td>\n",
       "      <td>male</td>\n",
       "      <td>3.0</td>\n",
       "    </tr>\n",
       "    <tr>\n",
       "      <th>f/NmvEzHfhINFEYZTR05prUdr+E+3+oewvweYz9cCQE=</th>\n",
       "      <td>1</td>\n",
       "      <td>12.0</td>\n",
       "      <td>5.0</td>\n",
       "      <td>18.0</td>\n",
       "      <td>362.0</td>\n",
       "      <td>36.0</td>\n",
       "      <td>30.0</td>\n",
       "      <td>180.0</td>\n",
       "      <td>180.0</td>\n",
       "      <td>0.0</td>\n",
       "      <td>0.0</td>\n",
       "      <td>13.0</td>\n",
       "      <td>20.0</td>\n",
       "      <td>male</td>\n",
       "      <td>3.0</td>\n",
       "    </tr>\n",
       "    <tr>\n",
       "      <th>zLo9f73nGGT1p21ltZC3ChiRnAVvgibMyazbCxvWPcg=</th>\n",
       "      <td>1</td>\n",
       "      <td>7.0</td>\n",
       "      <td>18.0</td>\n",
       "      <td>29.0</td>\n",
       "      <td>559.0</td>\n",
       "      <td>38.0</td>\n",
       "      <td>30.0</td>\n",
       "      <td>149.0</td>\n",
       "      <td>149.0</td>\n",
       "      <td>0.0</td>\n",
       "      <td>0.0</td>\n",
       "      <td>13.0</td>\n",
       "      <td>18.0</td>\n",
       "      <td>male</td>\n",
       "      <td>3.0</td>\n",
       "    </tr>\n",
       "    <tr>\n",
       "      <th>8iF/+8HY8lJKFrTc7iR9ZYGCG2Ecrogbc2Vy5YhsfhQ=</th>\n",
       "      <td>1</td>\n",
       "      <td>8.0</td>\n",
       "      <td>19.0</td>\n",
       "      <td>369.0</td>\n",
       "      <td>782.0</td>\n",
       "      <td>35.0</td>\n",
       "      <td>7.0</td>\n",
       "      <td>0.0</td>\n",
       "      <td>0.0</td>\n",
       "      <td>0.0</td>\n",
       "      <td>0.0</td>\n",
       "      <td>1.0</td>\n",
       "      <td>0.0</td>\n",
       "      <td>unknow</td>\n",
       "      <td>7.0</td>\n",
       "    </tr>\n",
       "    <tr>\n",
       "      <th>K6fja4+jmoZ5xG6BypqX80Uw/XKpMgrEMdG2edFOxnA=</th>\n",
       "      <td>1</td>\n",
       "      <td>5.0</td>\n",
       "      <td>24.0</td>\n",
       "      <td>180.0</td>\n",
       "      <td>766.0</td>\n",
       "      <td>41.0</td>\n",
       "      <td>30.0</td>\n",
       "      <td>99.0</td>\n",
       "      <td>99.0</td>\n",
       "      <td>1.0</td>\n",
       "      <td>0.0</td>\n",
       "      <td>13.0</td>\n",
       "      <td>35.0</td>\n",
       "      <td>female</td>\n",
       "      <td>7.0</td>\n",
       "    </tr>\n",
       "  </tbody>\n",
       "</table>\n",
       "</div>"
      ],
      "text/plain": [
       "                                              is_churn  \\\n",
       "msno                                                     \n",
       "ugx0CjOMzazClkFzU2xasmDZaoIqOUAZPsH1q0teWCg=         1   \n",
       "f/NmvEzHfhINFEYZTR05prUdr+E+3+oewvweYz9cCQE=         1   \n",
       "zLo9f73nGGT1p21ltZC3ChiRnAVvgibMyazbCxvWPcg=         1   \n",
       "8iF/+8HY8lJKFrTc7iR9ZYGCG2Ecrogbc2Vy5YhsfhQ=         1   \n",
       "K6fja4+jmoZ5xG6BypqX80Uw/XKpMgrEMdG2edFOxnA=         1   \n",
       "\n",
       "                                              days_till_member_expire  \\\n",
       "msno                                                                    \n",
       "ugx0CjOMzazClkFzU2xasmDZaoIqOUAZPsH1q0teWCg=                     30.0   \n",
       "f/NmvEzHfhINFEYZTR05prUdr+E+3+oewvweYz9cCQE=                     12.0   \n",
       "zLo9f73nGGT1p21ltZC3ChiRnAVvgibMyazbCxvWPcg=                      7.0   \n",
       "8iF/+8HY8lJKFrTc7iR9ZYGCG2Ecrogbc2Vy5YhsfhQ=                      8.0   \n",
       "K6fja4+jmoZ5xG6BypqX80Uw/XKpMgrEMdG2edFOxnA=                      5.0   \n",
       "\n",
       "                                              transc_counts  \\\n",
       "msno                                                          \n",
       "ugx0CjOMzazClkFzU2xasmDZaoIqOUAZPsH1q0teWCg=            6.0   \n",
       "f/NmvEzHfhINFEYZTR05prUdr+E+3+oewvweYz9cCQE=            5.0   \n",
       "zLo9f73nGGT1p21ltZC3ChiRnAVvgibMyazbCxvWPcg=           18.0   \n",
       "8iF/+8HY8lJKFrTc7iR9ZYGCG2Ecrogbc2Vy5YhsfhQ=           19.0   \n",
       "K6fja4+jmoZ5xG6BypqX80Uw/XKpMgrEMdG2edFOxnA=           24.0   \n",
       "\n",
       "                                              days_since_last_transc  \\\n",
       "msno                                                                   \n",
       "ugx0CjOMzazClkFzU2xasmDZaoIqOUAZPsH1q0teWCg=                     0.0   \n",
       "f/NmvEzHfhINFEYZTR05prUdr+E+3+oewvweYz9cCQE=                    18.0   \n",
       "zLo9f73nGGT1p21ltZC3ChiRnAVvgibMyazbCxvWPcg=                    29.0   \n",
       "8iF/+8HY8lJKFrTc7iR9ZYGCG2Ecrogbc2Vy5YhsfhQ=                   369.0   \n",
       "K6fja4+jmoZ5xG6BypqX80Uw/XKpMgrEMdG2edFOxnA=                   180.0   \n",
       "\n",
       "                                              days_since_first_transc  \\\n",
       "msno                                                                    \n",
       "ugx0CjOMzazClkFzU2xasmDZaoIqOUAZPsH1q0teWCg=                    700.0   \n",
       "f/NmvEzHfhINFEYZTR05prUdr+E+3+oewvweYz9cCQE=                    362.0   \n",
       "zLo9f73nGGT1p21ltZC3ChiRnAVvgibMyazbCxvWPcg=                    559.0   \n",
       "8iF/+8HY8lJKFrTc7iR9ZYGCG2Ecrogbc2Vy5YhsfhQ=                    782.0   \n",
       "K6fja4+jmoZ5xG6BypqX80Uw/XKpMgrEMdG2edFOxnA=                    766.0   \n",
       "\n",
       "                                              payment_method_id  \\\n",
       "msno                                                              \n",
       "ugx0CjOMzazClkFzU2xasmDZaoIqOUAZPsH1q0teWCg=               38.0   \n",
       "f/NmvEzHfhINFEYZTR05prUdr+E+3+oewvweYz9cCQE=               36.0   \n",
       "zLo9f73nGGT1p21ltZC3ChiRnAVvgibMyazbCxvWPcg=               38.0   \n",
       "8iF/+8HY8lJKFrTc7iR9ZYGCG2Ecrogbc2Vy5YhsfhQ=               35.0   \n",
       "K6fja4+jmoZ5xG6BypqX80Uw/XKpMgrEMdG2edFOxnA=               41.0   \n",
       "\n",
       "                                              payment_plan_days  \\\n",
       "msno                                                              \n",
       "ugx0CjOMzazClkFzU2xasmDZaoIqOUAZPsH1q0teWCg=               30.0   \n",
       "f/NmvEzHfhINFEYZTR05prUdr+E+3+oewvweYz9cCQE=               30.0   \n",
       "zLo9f73nGGT1p21ltZC3ChiRnAVvgibMyazbCxvWPcg=               30.0   \n",
       "8iF/+8HY8lJKFrTc7iR9ZYGCG2Ecrogbc2Vy5YhsfhQ=                7.0   \n",
       "K6fja4+jmoZ5xG6BypqX80Uw/XKpMgrEMdG2edFOxnA=               30.0   \n",
       "\n",
       "                                              plan_list_price  \\\n",
       "msno                                                            \n",
       "ugx0CjOMzazClkFzU2xasmDZaoIqOUAZPsH1q0teWCg=            149.0   \n",
       "f/NmvEzHfhINFEYZTR05prUdr+E+3+oewvweYz9cCQE=            180.0   \n",
       "zLo9f73nGGT1p21ltZC3ChiRnAVvgibMyazbCxvWPcg=            149.0   \n",
       "8iF/+8HY8lJKFrTc7iR9ZYGCG2Ecrogbc2Vy5YhsfhQ=              0.0   \n",
       "K6fja4+jmoZ5xG6BypqX80Uw/XKpMgrEMdG2edFOxnA=             99.0   \n",
       "\n",
       "                                              actual_amount_paid  \\\n",
       "msno                                                               \n",
       "ugx0CjOMzazClkFzU2xasmDZaoIqOUAZPsH1q0teWCg=               149.0   \n",
       "f/NmvEzHfhINFEYZTR05prUdr+E+3+oewvweYz9cCQE=               180.0   \n",
       "zLo9f73nGGT1p21ltZC3ChiRnAVvgibMyazbCxvWPcg=               149.0   \n",
       "8iF/+8HY8lJKFrTc7iR9ZYGCG2Ecrogbc2Vy5YhsfhQ=                 0.0   \n",
       "K6fja4+jmoZ5xG6BypqX80Uw/XKpMgrEMdG2edFOxnA=                99.0   \n",
       "\n",
       "                                              is_auto_renew  is_cancel  city  \\\n",
       "msno                                                                           \n",
       "ugx0CjOMzazClkFzU2xasmDZaoIqOUAZPsH1q0teWCg=            0.0        0.0   5.0   \n",
       "f/NmvEzHfhINFEYZTR05prUdr+E+3+oewvweYz9cCQE=            0.0        0.0  13.0   \n",
       "zLo9f73nGGT1p21ltZC3ChiRnAVvgibMyazbCxvWPcg=            0.0        0.0  13.0   \n",
       "8iF/+8HY8lJKFrTc7iR9ZYGCG2Ecrogbc2Vy5YhsfhQ=            0.0        0.0   1.0   \n",
       "K6fja4+jmoZ5xG6BypqX80Uw/XKpMgrEMdG2edFOxnA=            1.0        0.0  13.0   \n",
       "\n",
       "                                                bd  gender  registered_via  \n",
       "msno                                                                        \n",
       "ugx0CjOMzazClkFzU2xasmDZaoIqOUAZPsH1q0teWCg=  28.0    male             3.0  \n",
       "f/NmvEzHfhINFEYZTR05prUdr+E+3+oewvweYz9cCQE=  20.0    male             3.0  \n",
       "zLo9f73nGGT1p21ltZC3ChiRnAVvgibMyazbCxvWPcg=  18.0    male             3.0  \n",
       "8iF/+8HY8lJKFrTc7iR9ZYGCG2Ecrogbc2Vy5YhsfhQ=   0.0  unknow             7.0  \n",
       "K6fja4+jmoZ5xG6BypqX80Uw/XKpMgrEMdG2edFOxnA=  35.0  female             7.0  "
      ]
     },
     "execution_count": 10,
     "metadata": {},
     "output_type": "execute_result"
    }
   ],
   "source": [
    "train_data.head()"
   ]
  },
  {
   "cell_type": "markdown",
   "metadata": {},
   "source": [
    "### User Logs"
   ]
  },
  {
   "cell_type": "code",
   "execution_count": 11,
   "metadata": {
    "collapsed": true
   },
   "outputs": [],
   "source": [
    "users_msno = list(all_member.index)\n",
    "user_logs2 = pd.read_csv('data/user_logs_v2.csv',parse_dates=['date'])"
   ]
  },
  {
   "cell_type": "code",
   "execution_count": 15,
   "metadata": {},
   "outputs": [
    {
     "name": "stdout",
     "output_type": "stream",
     "text": [
      "===reading 1th chunks===\n",
      "chunk data read = 348239\n",
      "total data read = 348239\n",
      "time escape 16.342952\n",
      "===reading 2th chunks===\n",
      "chunk data read = 348050\n",
      "total data read = 696289\n",
      "time escape 32.898935\n",
      "===reading 3th chunks===\n",
      "chunk data read = 346888\n",
      "total data read = 1043177\n",
      "time escape 49.344462\n",
      "===reading 4th chunks===\n",
      "chunk data read = 347672\n",
      "total data read = 1390849\n",
      "time escape 65.743793\n",
      "===reading 5th chunks===\n",
      "chunk data read = 347783\n",
      "total data read = 1738632\n",
      "time escape 82.764907\n",
      "===reading 6th chunks===\n",
      "chunk data read = 347488\n",
      "total data read = 2086120\n",
      "time escape 99.086257\n",
      "===reading 7th chunks===\n",
      "chunk data read = 347233\n",
      "total data read = 2433353\n",
      "time escape 114.500588\n",
      "===reading 8th chunks===\n",
      "chunk data read = 347466\n",
      "total data read = 2780819\n",
      "time escape 129.380491\n",
      "===reading 9th chunks===\n",
      "chunk data read = 346872\n",
      "total data read = 3127691\n",
      "time escape 143.934472\n",
      "===reading 10th chunks===\n",
      "chunk data read = 347176\n",
      "total data read = 3474867\n",
      "time escape 159.266035\n",
      "===reading 11th chunks===\n",
      "chunk data read = 346550\n",
      "total data read = 3821417\n",
      "time escape 173.864905\n",
      "===reading 12th chunks===\n",
      "chunk data read = 346717\n",
      "total data read = 4168134\n",
      "time escape 188.537843\n",
      "===reading 13th chunks===\n",
      "chunk data read = 347641\n",
      "total data read = 4515775\n",
      "time escape 203.846980\n",
      "===reading 14th chunks===\n",
      "chunk data read = 347151\n",
      "total data read = 4862926\n",
      "time escape 218.947057\n",
      "===reading 15th chunks===\n",
      "chunk data read = 347876\n",
      "total data read = 5210802\n",
      "time escape 234.651044\n",
      "===reading 16th chunks===\n",
      "chunk data read = 347448\n",
      "total data read = 5558250\n",
      "time escape 251.042522\n",
      "===reading 17th chunks===\n",
      "chunk data read = 347867\n",
      "total data read = 5906117\n",
      "time escape 267.885550\n",
      "===reading 18th chunks===\n",
      "chunk data read = 347650\n",
      "total data read = 6253767\n",
      "time escape 283.326376\n",
      "===reading 19th chunks===\n",
      "chunk data read = 348104\n",
      "total data read = 6601871\n",
      "time escape 298.453298\n",
      "===reading 20th chunks===\n",
      "chunk data read = 347151\n",
      "total data read = 6949022\n",
      "time escape 313.223968\n",
      "===reading 21th chunks===\n",
      "chunk data read = 348022\n",
      "total data read = 7297044\n",
      "time escape 329.265066\n",
      "===reading 22th chunks===\n",
      "chunk data read = 347091\n",
      "total data read = 7644135\n",
      "time escape 344.384441\n",
      "===reading 23th chunks===\n",
      "chunk data read = 347528\n",
      "total data read = 7991663\n",
      "time escape 359.714552\n",
      "===reading 24th chunks===\n",
      "chunk data read = 347224\n",
      "total data read = 8338887\n",
      "time escape 374.382966\n",
      "===reading 25th chunks===\n",
      "chunk data read = 347433\n",
      "total data read = 8686320\n",
      "time escape 389.874197\n",
      "===reading 26th chunks===\n",
      "chunk data read = 347317\n",
      "total data read = 9033637\n",
      "time escape 405.659899\n",
      "===reading 27th chunks===\n",
      "chunk data read = 347135\n",
      "total data read = 9380772\n",
      "time escape 421.364615\n",
      "===reading 28th chunks===\n",
      "chunk data read = 347611\n",
      "total data read = 9728383\n",
      "time escape 436.504946\n",
      "===reading 29th chunks===\n",
      "chunk data read = 348308\n",
      "total data read = 10076691\n",
      "time escape 453.213366\n",
      "===reading 30th chunks===\n",
      "chunk data read = 348376\n",
      "total data read = 10425067\n",
      "time escape 470.046310\n",
      "===reading 31th chunks===\n",
      "chunk data read = 347801\n",
      "total data read = 10772868\n",
      "time escape 487.131871\n",
      "===reading 32th chunks===\n",
      "chunk data read = 347867\n",
      "total data read = 11120735\n",
      "time escape 503.031203\n",
      "===reading 33th chunks===\n",
      "chunk data read = 347084\n",
      "total data read = 11467819\n",
      "time escape 519.745923\n",
      "===reading 34th chunks===\n",
      "chunk data read = 347565\n",
      "total data read = 11815384\n",
      "time escape 535.880684\n",
      "===reading 35th chunks===\n",
      "chunk data read = 347055\n",
      "total data read = 12162439\n",
      "time escape 552.726846\n",
      "===reading 36th chunks===\n",
      "chunk data read = 348112\n",
      "total data read = 12510551\n",
      "time escape 568.571221\n",
      "===reading 37th chunks===\n",
      "chunk data read = 347448\n",
      "total data read = 12857999\n",
      "time escape 584.910087\n",
      "===reading 38th chunks===\n",
      "chunk data read = 348268\n",
      "total data read = 13206267\n",
      "time escape 600.921567\n",
      "===reading 39th chunks===\n",
      "chunk data read = 347250\n",
      "total data read = 13553517\n",
      "time escape 617.432588\n",
      "===reading 40th chunks===\n",
      "chunk data read = 73404\n",
      "total data read = 13626921\n",
      "time escape 620.811635\n",
      "===reading 41th chunks===\n",
      "Iteration is stopped.\n"
     ]
    }
   ],
   "source": [
    "def read_log_chunk(path,chunksize=None,period=[None,None],users_msno=None):\n",
    "    import time\n",
    "    reader = pd.read_csv(path,parse_dates=['date'], iterator=True)\n",
    "    i = 0\n",
    "    n_total = 0\n",
    "    chunks = []\n",
    "    loop = True\n",
    "    start = time.time()\n",
    "    while loop:\n",
    "        try:\n",
    "            i+=1\n",
    "            print ('===reading {:d}th chunks==='.format(i))\n",
    "            chunk = reader.get_chunk(chunksize)\n",
    "            #date filter\n",
    "            ma1 = ((chunk.date>train_start)&(chunk.date<train_end))\n",
    "            if ma1.sum()>0:\n",
    "                chunk = chunk.loc[ma1,:]\n",
    "                #msno filter\n",
    "                ma2 = chunk.msno.isin(users_msno)\n",
    "                if ma2.sum()>0:\n",
    "                    n_total += ma2.sum()\n",
    "                    print ('chunk data read = {:d}'.format(ma2.sum()))\n",
    "                    chunk = chunk.loc[ma2,:]\n",
    "                    chunks.append(chunk)\n",
    "                else:pass\n",
    "            else:pass\n",
    "            dt = time.time()-start\n",
    "            print ('total data read = {:d}'.format(n_total))\n",
    "            print ('time escape {:f}'.format(dt))\n",
    "        except StopIteration:\n",
    "            loop = False\n",
    "            print (\"Iteration is stopped.\")\n",
    "    user_logs = pd.concat(chunks, ignore_index=True) \n",
    "    return user_logs\n",
    "users_msno = list(all_member.index)\n",
    "train_end = datetime(year=2017,month=2,day=28)\n",
    "train_start = datetime(year=2017,month=1,day=28)\n",
    "user_logs1 = read_log_chunk('data/user_logs.csv',chunksize=10000000,period=[train_start,train_end],users_msno=users_msno)"
   ]
  },
  {
   "cell_type": "code",
   "execution_count": 16,
   "metadata": {
    "collapsed": true
   },
   "outputs": [],
   "source": [
    "def add_user_stats_feature(data,user_logs):\n",
    "    temp = (user_logs.groupby('msno').agg({'date':'count',\n",
    "                                           'num_25':['max','median','sum'],\n",
    "                                           'num_50':['max','median','sum'],\n",
    "                                           'num_985':['max','median','sum'],\n",
    "                                           'num_100':['max','median','sum'],\n",
    "                                           'num_unq':['max','median','sum'],\n",
    "                                           'total_secs':['max','median','sum']}))\n",
    "    temp.columns = [\"_\".join(x) for x in temp.columns.ravel()]\n",
    "    data = pd.merge(data,temp,left_index=True,right_index=True,how='left')\n",
    "    data = data.drop(columns=['is_churn'])\n",
    "    data = data.fillna(0)\n",
    "    return data\n",
    "data = [train,test]\n",
    "user_log = [user_logs1,user_logs2]\n",
    "for i in range(2):\n",
    "    data[i] = add_user_stats_feature(data[i],user_log[i])\n",
    "train_data = pd.merge(train_data,data[0],right_index=True,left_index=True,how='left')\n",
    "test_data = pd.merge(test_data,data[1],right_index=True,left_index=True,how='left')\n",
    "train_data.fillna(value=0,inplace=True)\n",
    "test_data.fillna(value=0,inplace=True)\n",
    "train_data.head()"
   ]
  },
  {
   "cell_type": "code",
   "execution_count": 20,
   "metadata": {
    "collapsed": true
   },
   "outputs": [],
   "source": [
    "train_data.reset_index().to_csv('training_feature_v2.csv',index=False)\n",
    "test_data.reset_index().to_csv('testing_feature_v2.csv',index=False)"
   ]
  },
  {
   "cell_type": "markdown",
   "metadata": {},
   "source": [
    "### Encodeing"
   ]
  },
  {
   "cell_type": "code",
   "execution_count": 28,
   "metadata": {},
   "outputs": [
    {
     "data": {
      "image/png": "[encoded data removed]",
      "text/plain": [
       "<matplotlib.figure.Figure at 0x2b37fcaa3400>"
      ]
     },
     "metadata": {},
     "output_type": "display_data"
    }
   ],
   "source": [
    "corr_matrix = train_data.corr()\n",
    "f, axes = plt.subplots(1,3,figsize=(18,5))\n",
    "ax1 = sns.heatmap(corr_matrix,center=0,ax=axes[0])\n",
    "ax2 = sns.heatmap(corr_matrix.iloc[:9,:9],center=0,ax=axes[1])\n",
    "ax3 = sns.heatmap(corr_matrix.iloc[10:,10:],center=0,ax=axes[2])"
   ]
  },
  {
   "cell_type": "markdown",
   "metadata": {},
   "source": [
    "#### Check Point"
   ]
  },
  {
   "cell_type": "code",
   "execution_count": 2,
   "metadata": {},
   "outputs": [
    {
     "name": "stdout",
     "output_type": "stream",
     "text": [
      "payment_method_id\n",
      "payment_plan_days\n",
      "plan_list_price\n",
      "actual_amount_paid\n",
      "city\n",
      "gender\n",
      "registered_via\n"
     ]
    }
   ],
   "source": [
    "train_data = pd.read_csv('training_feature_v2.csv')\n",
    "test_data  = pd.read_csv('testing_feature_v2.csv')\n",
    "\n",
    "from sklearn.preprocessing import LabelEncoder\n",
    "catagory = ['payment_method_id', 'payment_plan_days', 'plan_list_price','actual_amount_paid', 'city','gender', 'registered_via']\n",
    "encoder = {}\n",
    "for c in catagory:\n",
    "    print (c)\n",
    "    le = LabelEncoder()\n",
    "    le.fit(pd.concat([train_data[c],test_data[c]],axis=0))\n",
    "    name = c+'_encoded'\n",
    "    train_data[name]= le.transform(train_data.loc[:,c])\n",
    "    test_data[name]= le.transform(train_data.loc[:,c])\n",
    "    encoder[c] = le\n",
    "\n",
    "X = train_data.drop(columns=catagory)\n",
    "Y = test_data.drop(columns=catagory)\n",
    "X.drop(columns='msno',inplace=True)\n",
    "Y.drop(columns='msno',inplace=True)\n",
    "X = X.iloc[:,1:].values\n",
    "Y = Y.iloc[:,0].values"
   ]
  },
  {
   "cell_type": "markdown",
   "metadata": {},
   "source": [
    "### Modeling"
   ]
  },
  {
   "cell_type": "code",
   "execution_count": 3,
   "metadata": {},
   "outputs": [
    {
     "name": "stdout",
     "output_type": "stream",
     "text": [
      "Null LogLoss:  0.9111\n"
     ]
    }
   ],
   "source": [
    "import time\n",
    "from sklearn.model_selection import train_test_split, RandomizedSearchCV\n",
    "from sklearn.metrics import accuracy_score, log_loss\n",
    "from sklearn.feature_selection import SelectFromModel\n",
    "from xgboost import XGBClassifier\n",
    "from xgboost import plot_importance\n",
    "X_train, X_test, y_train, y_test = train_test_split(X, Y, test_size = 0.20, random_state = 0)\n",
    "lloss = accuracy_score(y_test, np.zeros_like(y_test))\n",
    "print(\"Null LogLoss:  {:.4f}\".format(lloss))"
   ]
  },
  {
   "cell_type": "code",
   "execution_count": 4,
   "metadata": {},
   "outputs": [
    {
     "name": "stdout",
     "output_type": "stream",
     "text": [
      "[0]\tvalidation_0-logloss:0.61672\tvalidation_1-logloss:0.616949\n",
      "[1]\tvalidation_0-logloss:0.552945\tvalidation_1-logloss:0.553335\n",
      "[2]\tvalidation_0-logloss:0.499228\tvalidation_1-logloss:0.499867\n",
      "[3]\tvalidation_0-logloss:0.455107\tvalidation_1-logloss:0.455991\n",
      "[4]\tvalidation_0-logloss:0.417839\tvalidation_1-logloss:0.418927\n",
      "[5]\tvalidation_0-logloss:0.384968\tvalidation_1-logloss:0.386277\n",
      "[6]\tvalidation_0-logloss:0.356778\tvalidation_1-logloss:0.358271\n",
      "[7]\tvalidation_0-logloss:0.332204\tvalidation_1-logloss:0.333828\n",
      "[8]\tvalidation_0-logloss:0.310826\tvalidation_1-logloss:0.312685\n",
      "[9]\tvalidation_0-logloss:0.292253\tvalidation_1-logloss:0.294368\n",
      "[10]\tvalidation_0-logloss:0.276436\tvalidation_1-logloss:0.27875\n",
      "[11]\tvalidation_0-logloss:0.261703\tvalidation_1-logloss:0.264201\n",
      "[12]\tvalidation_0-logloss:0.249627\tvalidation_1-logloss:0.252291\n",
      "[13]\tvalidation_0-logloss:0.238219\tvalidation_1-logloss:0.241018\n",
      "[14]\tvalidation_0-logloss:0.228771\tvalidation_1-logloss:0.231729\n",
      "[15]\tvalidation_0-logloss:0.220097\tvalidation_1-logloss:0.223256\n",
      "[16]\tvalidation_0-logloss:0.212248\tvalidation_1-logloss:0.215542\n",
      "[17]\tvalidation_0-logloss:0.20514\tvalidation_1-logloss:0.208606\n",
      "[18]\tvalidation_0-logloss:0.19899\tvalidation_1-logloss:0.202588\n",
      "[19]\tvalidation_0-logloss:0.193496\tvalidation_1-logloss:0.197255\n",
      "[20]\tvalidation_0-logloss:0.18841\tvalidation_1-logloss:0.192279\n",
      "[21]\tvalidation_0-logloss:0.184333\tvalidation_1-logloss:0.188445\n",
      "[22]\tvalidation_0-logloss:0.18058\tvalidation_1-logloss:0.18488\n",
      "[23]\tvalidation_0-logloss:0.177\tvalidation_1-logloss:0.181456\n",
      "[24]\tvalidation_0-logloss:0.174015\tvalidation_1-logloss:0.178608\n",
      "[25]\tvalidation_0-logloss:0.171474\tvalidation_1-logloss:0.176195\n",
      "[26]\tvalidation_0-logloss:0.168895\tvalidation_1-logloss:0.173776\n",
      "[27]\tvalidation_0-logloss:0.166849\tvalidation_1-logloss:0.171921\n",
      "[28]\tvalidation_0-logloss:0.165066\tvalidation_1-logloss:0.170332\n",
      "[29]\tvalidation_0-logloss:0.163237\tvalidation_1-logloss:0.168677\n",
      "[30]\tvalidation_0-logloss:0.161669\tvalidation_1-logloss:0.16727\n",
      "[31]\tvalidation_0-logloss:0.160327\tvalidation_1-logloss:0.166127\n",
      "[32]\tvalidation_0-logloss:0.159021\tvalidation_1-logloss:0.164968\n",
      "[33]\tvalidation_0-logloss:0.157997\tvalidation_1-logloss:0.164109\n",
      "[34]\tvalidation_0-logloss:0.156994\tvalidation_1-logloss:0.163323\n",
      "[35]\tvalidation_0-logloss:0.156182\tvalidation_1-logloss:0.162687\n",
      "[36]\tvalidation_0-logloss:0.155517\tvalidation_1-logloss:0.162196\n",
      "[37]\tvalidation_0-logloss:0.154691\tvalidation_1-logloss:0.161503\n",
      "[38]\tvalidation_0-logloss:0.154063\tvalidation_1-logloss:0.161043\n",
      "[39]\tvalidation_0-logloss:0.153541\tvalidation_1-logloss:0.160702\n",
      "[40]\tvalidation_0-logloss:0.15303\tvalidation_1-logloss:0.16031\n",
      "[41]\tvalidation_0-logloss:0.152431\tvalidation_1-logloss:0.15989\n",
      "[42]\tvalidation_0-logloss:0.152027\tvalidation_1-logloss:0.159622\n",
      "[43]\tvalidation_0-logloss:0.151566\tvalidation_1-logloss:0.159314\n",
      "[44]\tvalidation_0-logloss:0.151259\tvalidation_1-logloss:0.159104\n",
      "[45]\tvalidation_0-logloss:0.15102\tvalidation_1-logloss:0.158977\n",
      "[46]\tvalidation_0-logloss:0.150692\tvalidation_1-logloss:0.15883\n",
      "[47]\tvalidation_0-logloss:0.150428\tvalidation_1-logloss:0.158704\n",
      "[48]\tvalidation_0-logloss:0.150089\tvalidation_1-logloss:0.158479\n",
      "[49]\tvalidation_0-logloss:0.149827\tvalidation_1-logloss:0.158378\n",
      "[50]\tvalidation_0-logloss:0.149515\tvalidation_1-logloss:0.158232\n",
      "[51]\tvalidation_0-logloss:0.149242\tvalidation_1-logloss:0.158176\n",
      "[52]\tvalidation_0-logloss:0.149016\tvalidation_1-logloss:0.1581\n",
      "[53]\tvalidation_0-logloss:0.148762\tvalidation_1-logloss:0.158033\n",
      "[54]\tvalidation_0-logloss:0.148467\tvalidation_1-logloss:0.157931\n",
      "[55]\tvalidation_0-logloss:0.148283\tvalidation_1-logloss:0.157855\n",
      "[56]\tvalidation_0-logloss:0.148087\tvalidation_1-logloss:0.157787\n",
      "[57]\tvalidation_0-logloss:0.14792\tvalidation_1-logloss:0.157776\n",
      "[58]\tvalidation_0-logloss:0.147797\tvalidation_1-logloss:0.157758\n",
      "[59]\tvalidation_0-logloss:0.147545\tvalidation_1-logloss:0.157641\n",
      "[60]\tvalidation_0-logloss:0.147424\tvalidation_1-logloss:0.157627\n",
      "[61]\tvalidation_0-logloss:0.147196\tvalidation_1-logloss:0.157538\n",
      "[62]\tvalidation_0-logloss:0.146995\tvalidation_1-logloss:0.157523\n",
      "[63]\tvalidation_0-logloss:0.146863\tvalidation_1-logloss:0.157483\n",
      "[64]\tvalidation_0-logloss:0.146657\tvalidation_1-logloss:0.157462\n",
      "[65]\tvalidation_0-logloss:0.146512\tvalidation_1-logloss:0.157468\n",
      "[66]\tvalidation_0-logloss:0.146326\tvalidation_1-logloss:0.157404\n",
      "[67]\tvalidation_0-logloss:0.14621\tvalidation_1-logloss:0.157402\n",
      "[68]\tvalidation_0-logloss:0.146019\tvalidation_1-logloss:0.157375\n",
      "[69]\tvalidation_0-logloss:0.145886\tvalidation_1-logloss:0.157382\n",
      "[70]\tvalidation_0-logloss:0.145828\tvalidation_1-logloss:0.157388\n",
      "[71]\tvalidation_0-logloss:0.145723\tvalidation_1-logloss:0.157374\n",
      "[72]\tvalidation_0-logloss:0.145648\tvalidation_1-logloss:0.157352\n",
      "[73]\tvalidation_0-logloss:0.145517\tvalidation_1-logloss:0.157351\n",
      "[74]\tvalidation_0-logloss:0.145429\tvalidation_1-logloss:0.157345\n",
      "[75]\tvalidation_0-logloss:0.145341\tvalidation_1-logloss:0.157341\n",
      "[76]\tvalidation_0-logloss:0.145228\tvalidation_1-logloss:0.157343\n",
      "[77]\tvalidation_0-logloss:0.145111\tvalidation_1-logloss:0.157316\n",
      "[78]\tvalidation_0-logloss:0.144946\tvalidation_1-logloss:0.157284\n",
      "[79]\tvalidation_0-logloss:0.144845\tvalidation_1-logloss:0.157288\n",
      "[80]\tvalidation_0-logloss:0.144661\tvalidation_1-logloss:0.157234\n",
      "[81]\tvalidation_0-logloss:0.144549\tvalidation_1-logloss:0.157235\n",
      "[82]\tvalidation_0-logloss:0.144414\tvalidation_1-logloss:0.157222\n",
      "[83]\tvalidation_0-logloss:0.144348\tvalidation_1-logloss:0.15723\n",
      "[84]\tvalidation_0-logloss:0.144261\tvalidation_1-logloss:0.157228\n",
      "[85]\tvalidation_0-logloss:0.144089\tvalidation_1-logloss:0.157225\n",
      "[86]\tvalidation_0-logloss:0.144037\tvalidation_1-logloss:0.157227\n",
      "[87]\tvalidation_0-logloss:0.143913\tvalidation_1-logloss:0.157238\n",
      "[88]\tvalidation_0-logloss:0.143832\tvalidation_1-logloss:0.157234\n",
      "[89]\tvalidation_0-logloss:0.143725\tvalidation_1-logloss:0.157234\n",
      "[90]\tvalidation_0-logloss:0.143687\tvalidation_1-logloss:0.157241\n",
      "[91]\tvalidation_0-logloss:0.143536\tvalidation_1-logloss:0.157225\n",
      "[92]\tvalidation_0-logloss:0.143418\tvalidation_1-logloss:0.157216\n",
      "[93]\tvalidation_0-logloss:0.143354\tvalidation_1-logloss:0.157221\n",
      "[94]\tvalidation_0-logloss:0.143241\tvalidation_1-logloss:0.157226\n",
      "[95]\tvalidation_0-logloss:0.143195\tvalidation_1-logloss:0.157228\n",
      "[96]\tvalidation_0-logloss:0.143161\tvalidation_1-logloss:0.157229\n",
      "[97]\tvalidation_0-logloss:0.143114\tvalidation_1-logloss:0.15723\n",
      "[98]\tvalidation_0-logloss:0.143054\tvalidation_1-logloss:0.157242\n",
      "[99]\tvalidation_0-logloss:0.142881\tvalidation_1-logloss:0.15727\n"
     ]
    },
    {
     "name": "stderr",
     "output_type": "stream",
     "text": [
      "/home/yhh281/anaconda2/envs/pydata/lib/python3.6/site-packages/sklearn/preprocessing/label.py:151: DeprecationWarning: The truth value of an empty array is ambiguous. Returning False, but in future this will result in an error. Use `array.size > 0` to check that an array is not empty.\n",
      "  if diff:\n"
     ]
    },
    {
     "name": "stdout",
     "output_type": "stream",
     "text": [
      "Accuracy: 94.68%\n",
      "LogLoss:  0.1573\n",
      "Total Time 288.29\n"
     ]
    },
    {
     "data": {
      "text/plain": [
       "<matplotlib.axes._subplots.AxesSubplot at 0x2afebc4d6fd0>"
      ]
     },
     "execution_count": 4,
     "metadata": {},
     "output_type": "execute_result"
    },
    {
     "data": {
      "image/png": "[encoded data removed]",
      "text/plain": [
       "<matplotlib.figure.Figure at 0x2afebc4d1978>"
      ]
     },
     "metadata": {},
     "output_type": "display_data"
    }
   ],
   "source": [
    "start = time.time()\n",
    "xgb = XGBClassifier(learning_rate=0.1,\n",
    "                    max_depth=10,\n",
    "                    min_child_weight=6,\n",
    "                    n_estimator=1000,\n",
    "                    gamma=0,\n",
    "                    subsample=0.8,\n",
    "                    colsample_bytree=0.8,\n",
    "                    reg_alpha=0.005,\n",
    "                    objective='binary:logistic',\n",
    "                    nthreads=-1)\n",
    "xgb.fit(X_train, y_train,\n",
    "        eval_set=[(X_train, y_train), (X_test, y_test)],\n",
    "        eval_metric='logloss',\n",
    "        verbose=1)\n",
    "\n",
    "y_pred_proba = xgb.predict_proba(X_test)\n",
    "logloss = log_loss(y_test,y_pred_proba)\n",
    "y_pred = xgb.predict(X_test)\n",
    "predictions = [round(value) for value in y_pred]\n",
    "accuracy = accuracy_score(y_test, predictions)\n",
    "elapsed = time.time() - start\n",
    "print(\"Accuracy: {:.2f}%\".format(accuracy * 100.0))\n",
    "print(\"LogLoss:  {:.4f}\".format(logloss))\n",
    "print(\"Total Time {:.2f}\".format(elapsed ))\n",
    "plot_importance(xgb,max_num_features=10)"
   ]
  },
  {
   "cell_type": "code",
   "execution_count": null,
   "metadata": {},
   "outputs": [],
   "source": [
    "import scipy.stats as st\n",
    "n_iter_search = 30\n",
    "one_to_left = st.beta(10, 1)  \n",
    "from_zero_positive = st.expon(0, 50)\n",
    "params = {  \n",
    "    \"n_estimators\": st.randint(100, 1000),\n",
    "    \"max_depth\": st.randint(5, 20),\n",
    "    \"learning_rate\": st.uniform(0.01, 0.2),\n",
    "    \"colsample_bytree\": one_to_left,\n",
    "    \"subsample\": one_to_left,\n",
    "    \"gamma\": st.uniform(0, 10),\n",
    "    'reg_alpha': from_zero_positive,\n",
    "    \"min_child_weight\": from_zero_positive,\n",
    "}\n",
    "xgb_rscv = XGBClassifier(nthreads=1)\n",
    "random_search = RandomizedSearchCV(xgb_rscv,\n",
    "                                   param_distributions=params,\n",
    "                                   cv=3,\n",
    "                                   scoring='neg_log_loss',\n",
    "                                   n_iter=n_iter_search,\n",
    "                                   random_state=0,\n",
    "                                   n_jobs=-1,\n",
    "                                   verbose=1)\n",
    "random_search.fit(X_train, y_train)  "
   ]
  },
  {
   "cell_type": "code",
   "execution_count": 8,
   "metadata": {},
   "outputs": [
    {
     "data": {
      "text/plain": [
       "XGBClassifier(base_score=0.5, booster='gbtree', colsample_bylevel=1,\n",
       "       colsample_bytree=0.8976997421479328, gamma=3.394038194495186,\n",
       "       learning_rate=0.10790978737821874, max_delta_step=0, max_depth=10,\n",
       "       min_child_weight=11.156960372207223, missing=None, n_estimators=136,\n",
       "       n_jobs=1, nthread=None, nthreads=1, objective='binary:logistic',\n",
       "       random_state=0, reg_alpha=9.37594791679631, reg_lambda=1,\n",
       "       scale_pos_weight=1, seed=None, silent=True,\n",
       "       subsample=0.7833006708474917)"
      ]
     },
     "execution_count": 8,
     "metadata": {},
     "output_type": "execute_result"
    }
   ],
   "source": [
    "random_search.best_estimator_"
   ]
  },
  {
   "cell_type": "code",
   "execution_count": null,
   "metadata": {},
   "outputs": [],
   "source": [
    "best_model = random_search.best_estimator_\n",
    "best_model.fit(X_train, y_train)\n",
    "y_pred_proba = best_model.predict_proba(X_test)\n",
    "logloss = log_loss(y_test,y_pred_proba)\n",
    "y_pred = best_model.predict(X_test)\n",
    "predictions = [round(value) for value in y_pred]\n",
    "accuracy = accuracy_score(y_test, predictions)"
   ]
  },
  {
   "cell_type": "code",
   "execution_count": 11,
   "metadata": {},
   "outputs": [
    {
     "name": "stdout",
     "output_type": "stream",
     "text": [
      "Accuracy: 94.66%\n",
      "LogLoss:  0.1575\n"
     ]
    },
    {
     "data": {
      "text/plain": [
       "<matplotlib.axes._subplots.AxesSubplot at 0x2afec9d3b470>"
      ]
     },
     "execution_count": 11,
     "metadata": {},
     "output_type": "execute_result"
    },
    {
     "data": {
      "image/png": "[encoded data removed]",
      "text/plain": [
       "<matplotlib.figure.Figure at 0x2aff0b8197f0>"
      ]
     },
     "metadata": {},
     "output_type": "display_data"
    }
   ],
   "source": [
    "print(\"Accuracy: {:.2f}%\".format(accuracy * 100.0))\n",
    "print(\"LogLoss:  {:.4f}\".format(logloss))\n",
    "plot_importance(best_model,max_num_features=10,ticks_label)"
   ]
  },
  {
   "cell_type": "code",
   "execution_count": null,
   "metadata": {},
   "outputs": [],
   "source": []
  },
  {
   "cell_type": "markdown",
   "metadata": {},
   "source": [
    "### Prediction"
   ]
  },
  {
   "cell_type": "code",
   "execution_count": null,
   "metadata": {},
   "outputs": [],
   "source": []
  }
 ],
 "metadata": {
  "anaconda-cloud": {},
  "kernelspec": {
   "display_name": "Python 3",
   "language": "python",
   "name": "python3"
  },
  "language_info": {
   "codemirror_mode": {
    "name": "ipython",
    "version": 3
   },
   "file_extension": ".py",
   "mimetype": "text/x-python",
   "name": "python",
   "nbconvert_exporter": "python",
   "pygments_lexer": "ipython3",
   "version": "3.6.4"
  }
 },
 "nbformat": 4,
 "nbformat_minor": 1
}
