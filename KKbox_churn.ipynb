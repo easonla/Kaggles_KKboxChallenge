{
 "cells": [
  {
   "cell_type": "markdown",
   "metadata": {},
   "source": [
    "In this notebook, I will perform data analysis of Kaggle Challenge KKBox Churn classifier. \n",
    "\n",
    "KKBox is one of the biggest music streaming company in chinese world. The raw data contains about 60Gb and 10Millium\n",
    "user activites. Due to the large data volume, it will be tricky to analyze with native pandas (chunk batch operation must be used to avoid memory drain.) Therefore I will use Dask, a pandas-like parallel computing analysis package to handle the job. In the end, I will perform ensemble method to build a classify model to predict user churn."
   ]
  },
  {
   "cell_type": "markdown",
   "metadata": {},
   "source": [
    "Table of content.\n",
    "1. First look of data - variable explore\n",
    "2. Feature engineering\n",
    "3. First level classifier\n",
    "4. Second level classifier"
   ]
  },
  {
   "cell_type": "code",
   "execution_count": 62,
   "metadata": {
    "collapsed": true
   },
   "outputs": [],
   "source": [
    "%matplotlib inline\n",
    "import pandas as pd\n",
    "import numpy as np\n",
    "import matplotlib.pylab as plt\n",
    "import seaborn as sns\n",
    "import dask.dataframe as dd"
   ]
  },
  {
   "cell_type": "markdown",
   "metadata": {},
   "source": [
    "The raw data is three files, (and transactions_v2, user_logs_v2 for data in March)\n",
    "members: gender, city, registered_via, registration_init_time, expiration_date (member histroy)\n",
    "transaction: including payment method_id, payment_plan_days, plan_list_price, actual_amount_paid, is_auto_renew\n",
    "user_logs: daily user logs, this will be the most challenge and interesting info about the user, including number of song played 25%, 50%, 75% of song lenght, #unique song play, total listening sec.\n",
    "Each file is connect by unique user id 'msno'. The data including user behavier from 2015-1-1 to 2017-2-28, which is huge amount of information we can dig into. I will try to analyze it in the second part see if we can find more features for prediction. \n",
    "\n",
    "The train and test set data are saved in 'train_v2', where we will use data in Feb to predict churn user in March.\n",
    "(Update: now the competition had been change the target to churn users in Aprail)\n",
    "The train and test set are seperated by transaction date. In this first part I will set down modeling framework.\n",
    "Let's first find out the trainset and testset."
   ]
  },
  {
   "cell_type": "markdown",
   "metadata": {},
   "source": [
    "Definition of train and testset"
   ]
  },
  {
   "cell_type": "code",
   "execution_count": 63,
   "metadata": {},
   "outputs": [],
   "source": [
    "#df_1 = dd.read_csv('train.csv').set_index('msno')\n",
    "df_2 = dd.read_csv('train_v2.csv').set_index('msno')\n",
    "df_member = dd.read_csv('members_v3.csv',parse_dates = ['registration_init_time']).set_index('msno') #all data\n",
    "#df_trans1 = dd.read_csv('transactions.csv',parse_dates = ['transaction_date','membership_expire_date']).set_index('msno')\n",
    "df_trans2 = dd.read_csv('transactions_v2.csv',parse_dates = ['transaction_date','membership_expire_date']).set_index('msno')\n",
    "#df_log1 = dd.read_csv('user_logs.csv',parse_dates=['date']).set_index('msno')\n",
    "df_log2 = dd.read_csv('user_logs_v2.csv',parse_dates=['date']).set_index('msno')"
   ]
  },
  {
   "cell_type": "code",
   "execution_count": 74,
   "metadata": {},
   "outputs": [
    {
     "name": "stdout",
     "output_type": "stream",
     "text": [
      "<class 'pandas.core.frame.DataFrame'>\n",
      "RangeIndex: 907471 entries, 0 to 907470\n",
      "Data columns (total 2 columns):\n",
      "msno        907471 non-null object\n",
      "is_churn    907471 non-null int64\n",
      "dtypes: int64(1), object(1)\n",
      "memory usage: 13.8+ MB\n"
     ]
    }
   ],
   "source": [
    "# df_pd1 = pd.read_csv('train.csv')\n",
    "# df_pd2 = pd.read_csv('train_v2.csv')\n",
    "# d1_msno = df_pd1.msno\n",
    "# overlap = df_pd2[df_pd2.msno.isin(d1_msno)]\n",
    "sub = pd.read_csv('sample_submission_v2.csv')\n",
    "sub.info()\n",
    "# sub = pd.read_csv('sample_submission_zero.csv')\n",
    "# sub.info()"
   ]
  },
  {
   "cell_type": "markdown",
   "metadata": {},
   "source": [
    "Because of the change of competition, we have churn info on Feb and March now. Now I have two way to go, take Feb data predict March and directly see the logloss score. Or I can take March data to predict Aprail. Lets do second. and try to figure out how to combine two dataset for more precise model."
   ]
  },
  {
   "cell_type": "code",
   "execution_count": 64,
   "metadata": {
    "scrolled": true
   },
   "outputs": [],
   "source": [
    "df_total = dd.merge(df_2,df_member, left_index=True,right_index=True,how='left')\n",
    "# df_total = dd.merge(df_total,df_trans2, left_index=True,how='left')\n",
    "# df_total = dd.merge(df_total,df_log2,left_index=True,how='left')"
   ]
  },
  {
   "cell_type": "code",
   "execution_count": 65,
   "metadata": {
    "scrolled": true
   },
   "outputs": [
    {
     "name": "stderr",
     "output_type": "stream",
     "text": [
      "/Users/yhhsu/Anaconda/anaconda/envs/ph2t/lib/python3.6/site-packages/numpy/lib/function_base.py:4269: RuntimeWarning: Invalid value encountered in percentile\n",
      "  interpolation=interpolation)\n",
      "/Users/yhhsu/Anaconda/anaconda/envs/ph2t/lib/python3.6/site-packages/numpy/lib/function_base.py:4269: RuntimeWarning: Invalid value encountered in percentile\n",
      "  interpolation=interpolation)\n"
     ]
    }
   ],
   "source": [
    "describe = df_total.describe().compute()"
   ]
  },
  {
   "cell_type": "code",
   "execution_count": 66,
   "metadata": {},
   "outputs": [
    {
     "data": {
      "text/html": [
       "<div>\n",
       "<style scoped>\n",
       "    .dataframe tbody tr th:only-of-type {\n",
       "        vertical-align: middle;\n",
       "    }\n",
       "\n",
       "    .dataframe tbody tr th {\n",
       "        vertical-align: top;\n",
       "    }\n",
       "\n",
       "    .dataframe thead th {\n",
       "        text-align: right;\n",
       "    }\n",
       "</style>\n",
       "<table border=\"1\" class=\"dataframe\">\n",
       "  <thead>\n",
       "    <tr style=\"text-align: right;\">\n",
       "      <th></th>\n",
       "      <th>is_churn</th>\n",
       "      <th>city</th>\n",
       "      <th>bd</th>\n",
       "      <th>registered_via</th>\n",
       "    </tr>\n",
       "  </thead>\n",
       "  <tbody>\n",
       "    <tr>\n",
       "      <th>count</th>\n",
       "      <td>970960.000000</td>\n",
       "      <td>860967.000000</td>\n",
       "      <td>860967.000000</td>\n",
       "      <td>860967.000000</td>\n",
       "    </tr>\n",
       "    <tr>\n",
       "      <th>mean</th>\n",
       "      <td>0.089942</td>\n",
       "      <td>5.937295</td>\n",
       "      <td>13.583854</td>\n",
       "      <td>6.892744</td>\n",
       "    </tr>\n",
       "    <tr>\n",
       "      <th>std</th>\n",
       "      <td>0.286099</td>\n",
       "      <td>6.441203</td>\n",
       "      <td>20.064040</td>\n",
       "      <td>1.937794</td>\n",
       "    </tr>\n",
       "    <tr>\n",
       "      <th>min</th>\n",
       "      <td>0.000000</td>\n",
       "      <td>1.000000</td>\n",
       "      <td>-3152.000000</td>\n",
       "      <td>3.000000</td>\n",
       "    </tr>\n",
       "    <tr>\n",
       "      <th>25%</th>\n",
       "      <td>0.000000</td>\n",
       "      <td>NaN</td>\n",
       "      <td>NaN</td>\n",
       "      <td>NaN</td>\n",
       "    </tr>\n",
       "    <tr>\n",
       "      <th>50%</th>\n",
       "      <td>0.000000</td>\n",
       "      <td>NaN</td>\n",
       "      <td>NaN</td>\n",
       "      <td>NaN</td>\n",
       "    </tr>\n",
       "    <tr>\n",
       "      <th>75%</th>\n",
       "      <td>0.000000</td>\n",
       "      <td>4.000000</td>\n",
       "      <td>26.000000</td>\n",
       "      <td>3.000000</td>\n",
       "    </tr>\n",
       "    <tr>\n",
       "      <th>max</th>\n",
       "      <td>1.000000</td>\n",
       "      <td>22.000000</td>\n",
       "      <td>2016.000000</td>\n",
       "      <td>13.000000</td>\n",
       "    </tr>\n",
       "  </tbody>\n",
       "</table>\n",
       "</div>"
      ],
      "text/plain": [
       "            is_churn           city             bd  registered_via\n",
       "count  970960.000000  860967.000000  860967.000000   860967.000000\n",
       "mean        0.089942       5.937295      13.583854        6.892744\n",
       "std         0.286099       6.441203      20.064040        1.937794\n",
       "min         0.000000       1.000000   -3152.000000        3.000000\n",
       "25%         0.000000            NaN            NaN             NaN\n",
       "50%         0.000000            NaN            NaN             NaN\n",
       "75%         0.000000       4.000000      26.000000        3.000000\n",
       "max         1.000000      22.000000    2016.000000       13.000000"
      ]
     },
     "execution_count": 66,
     "metadata": {},
     "output_type": "execute_result"
    }
   ],
   "source": [
    "describe"
   ]
  },
  {
   "cell_type": "code",
   "execution_count": 68,
   "metadata": {},
   "outputs": [
    {
     "data": {
      "text/html": [
       "<div>\n",
       "<style scoped>\n",
       "    .dataframe tbody tr th:only-of-type {\n",
       "        vertical-align: middle;\n",
       "    }\n",
       "\n",
       "    .dataframe tbody tr th {\n",
       "        vertical-align: top;\n",
       "    }\n",
       "\n",
       "    .dataframe thead th {\n",
       "        text-align: right;\n",
       "    }\n",
       "</style>\n",
       "<table border=\"1\" class=\"dataframe\">\n",
       "  <thead>\n",
       "    <tr style=\"text-align: right;\">\n",
       "      <th></th>\n",
       "      <th>is_churn</th>\n",
       "      <th>city</th>\n",
       "      <th>bd</th>\n",
       "      <th>gender</th>\n",
       "      <th>registered_via</th>\n",
       "      <th>registration_init_time</th>\n",
       "    </tr>\n",
       "    <tr>\n",
       "      <th>msno</th>\n",
       "      <th></th>\n",
       "      <th></th>\n",
       "      <th></th>\n",
       "      <th></th>\n",
       "      <th></th>\n",
       "      <th></th>\n",
       "    </tr>\n",
       "  </thead>\n",
       "  <tbody>\n",
       "    <tr>\n",
       "      <th>+++hVY1rZox/33YtvDgmKA2Frg/2qhkz12B9ylCvh8o=</th>\n",
       "      <td>0</td>\n",
       "      <td>1.0</td>\n",
       "      <td>0.0</td>\n",
       "      <td>NaN</td>\n",
       "      <td>7.0</td>\n",
       "      <td>2014-06-08</td>\n",
       "    </tr>\n",
       "    <tr>\n",
       "      <th>+++l/EXNMLTijfLBa8p2TUVVVp2aFGSuUI/h7mLmthw=</th>\n",
       "      <td>0</td>\n",
       "      <td>15.0</td>\n",
       "      <td>26.0</td>\n",
       "      <td>male</td>\n",
       "      <td>9.0</td>\n",
       "      <td>2010-11-18</td>\n",
       "    </tr>\n",
       "    <tr>\n",
       "      <th>+++snpr7pmobhLKUgSHTv/mpkqgBT0tQJ0zQj6qKrqc=</th>\n",
       "      <td>0</td>\n",
       "      <td>1.0</td>\n",
       "      <td>0.0</td>\n",
       "      <td>NaN</td>\n",
       "      <td>7.0</td>\n",
       "      <td>2014-09-27</td>\n",
       "    </tr>\n",
       "    <tr>\n",
       "      <th>++/9R3sX37CjxbY/AaGvbwr3QkwElKBCtSvVzhCBDOk=</th>\n",
       "      <td>0</td>\n",
       "      <td>18.0</td>\n",
       "      <td>21.0</td>\n",
       "      <td>male</td>\n",
       "      <td>7.0</td>\n",
       "      <td>2016-03-15</td>\n",
       "    </tr>\n",
       "    <tr>\n",
       "      <th>++/UDNo9DLrxT8QVGiDi1OnWfczAdEwThaVyD0fXO50=</th>\n",
       "      <td>0</td>\n",
       "      <td>22.0</td>\n",
       "      <td>32.0</td>\n",
       "      <td>male</td>\n",
       "      <td>9.0</td>\n",
       "      <td>2012-01-22</td>\n",
       "    </tr>\n",
       "  </tbody>\n",
       "</table>\n",
       "</div>"
      ],
      "text/plain": [
       "                                              is_churn  city    bd gender  \\\n",
       "msno                                                                        \n",
       "+++hVY1rZox/33YtvDgmKA2Frg/2qhkz12B9ylCvh8o=         0   1.0   0.0    NaN   \n",
       "+++l/EXNMLTijfLBa8p2TUVVVp2aFGSuUI/h7mLmthw=         0  15.0  26.0   male   \n",
       "+++snpr7pmobhLKUgSHTv/mpkqgBT0tQJ0zQj6qKrqc=         0   1.0   0.0    NaN   \n",
       "++/9R3sX37CjxbY/AaGvbwr3QkwElKBCtSvVzhCBDOk=         0  18.0  21.0   male   \n",
       "++/UDNo9DLrxT8QVGiDi1OnWfczAdEwThaVyD0fXO50=         0  22.0  32.0   male   \n",
       "\n",
       "                                              registered_via  \\\n",
       "msno                                                           \n",
       "+++hVY1rZox/33YtvDgmKA2Frg/2qhkz12B9ylCvh8o=             7.0   \n",
       "+++l/EXNMLTijfLBa8p2TUVVVp2aFGSuUI/h7mLmthw=             9.0   \n",
       "+++snpr7pmobhLKUgSHTv/mpkqgBT0tQJ0zQj6qKrqc=             7.0   \n",
       "++/9R3sX37CjxbY/AaGvbwr3QkwElKBCtSvVzhCBDOk=             7.0   \n",
       "++/UDNo9DLrxT8QVGiDi1OnWfczAdEwThaVyD0fXO50=             9.0   \n",
       "\n",
       "                                             registration_init_time  \n",
       "msno                                                                 \n",
       "+++hVY1rZox/33YtvDgmKA2Frg/2qhkz12B9ylCvh8o=             2014-06-08  \n",
       "+++l/EXNMLTijfLBa8p2TUVVVp2aFGSuUI/h7mLmthw=             2010-11-18  \n",
       "+++snpr7pmobhLKUgSHTv/mpkqgBT0tQJ0zQj6qKrqc=             2014-09-27  \n",
       "++/9R3sX37CjxbY/AaGvbwr3QkwElKBCtSvVzhCBDOk=             2016-03-15  \n",
       "++/UDNo9DLrxT8QVGiDi1OnWfczAdEwThaVyD0fXO50=             2012-01-22  "
      ]
     },
     "execution_count": 68,
     "metadata": {},
     "output_type": "execute_result"
    }
   ],
   "source": [
    "df_total.head(npartitions=5)"
   ]
  },
  {
   "cell_type": "code",
   "execution_count": 73,
   "metadata": {},
   "outputs": [
    {
     "data": {
      "text/plain": [
       "male      204561\n",
       "female    184344\n",
       "Name: gender, dtype: int64"
      ]
     },
     "execution_count": 73,
     "metadata": {},
     "output_type": "execute_result"
    }
   ],
   "source": [
    "df_total.gender.value_counts().compute()"
   ]
  },
  {
   "cell_type": "code",
   "execution_count": 81,
   "metadata": {},
   "outputs": [
    {
     "data": {
      "text/html": [
       "<div>\n",
       "<style scoped>\n",
       "    .dataframe tbody tr th:only-of-type {\n",
       "        vertical-align: middle;\n",
       "    }\n",
       "\n",
       "    .dataframe tbody tr th {\n",
       "        vertical-align: top;\n",
       "    }\n",
       "\n",
       "    .dataframe thead th {\n",
       "        text-align: right;\n",
       "    }\n",
       "</style>\n",
       "<table border=\"1\" class=\"dataframe\">\n",
       "  <thead>\n",
       "    <tr style=\"text-align: right;\">\n",
       "      <th></th>\n",
       "      <th>is_churn</th>\n",
       "      <th>city</th>\n",
       "      <th>bd</th>\n",
       "      <th>gender</th>\n",
       "      <th>registered_via</th>\n",
       "      <th>registration_init_time</th>\n",
       "    </tr>\n",
       "    <tr>\n",
       "      <th>msno</th>\n",
       "      <th></th>\n",
       "      <th></th>\n",
       "      <th></th>\n",
       "      <th></th>\n",
       "      <th></th>\n",
       "      <th></th>\n",
       "    </tr>\n",
       "  </thead>\n",
       "  <tbody>\n",
       "    <tr>\n",
       "      <th>++0wqjjQge1mBBe5r4ciHGKwtF/m322zkra7CK8I+Mw=</th>\n",
       "      <td>0</td>\n",
       "      <td>NaN</td>\n",
       "      <td>NaN</td>\n",
       "      <td>NaN</td>\n",
       "      <td>NaN</td>\n",
       "      <td>NaT</td>\n",
       "    </tr>\n",
       "    <tr>\n",
       "      <th>++1Wu2wKBA60W9F9sMh15RXmh1wN1fjoVGzNqvw/Gro=</th>\n",
       "      <td>0</td>\n",
       "      <td>NaN</td>\n",
       "      <td>NaN</td>\n",
       "      <td>NaN</td>\n",
       "      <td>NaN</td>\n",
       "      <td>NaT</td>\n",
       "    </tr>\n",
       "    <tr>\n",
       "      <th>++2Ju1OdxLSyexwhZ/C0glNK0DMIfUjsFpk9lt8Dll8=</th>\n",
       "      <td>0</td>\n",
       "      <td>NaN</td>\n",
       "      <td>NaN</td>\n",
       "      <td>NaN</td>\n",
       "      <td>NaN</td>\n",
       "      <td>NaT</td>\n",
       "    </tr>\n",
       "    <tr>\n",
       "      <th>++4wuAZmfzMBjRHP4vDpTk+jkj9Xam8SW5rNJrGFEsE=</th>\n",
       "      <td>0</td>\n",
       "      <td>NaN</td>\n",
       "      <td>NaN</td>\n",
       "      <td>NaN</td>\n",
       "      <td>NaN</td>\n",
       "      <td>NaT</td>\n",
       "    </tr>\n",
       "    <tr>\n",
       "      <th>++5XBxbJNz3idK9egVoGbWJ4xhGQu2MR0pSP0kL9DK4=</th>\n",
       "      <td>0</td>\n",
       "      <td>NaN</td>\n",
       "      <td>NaN</td>\n",
       "      <td>NaN</td>\n",
       "      <td>NaN</td>\n",
       "      <td>NaT</td>\n",
       "    </tr>\n",
       "  </tbody>\n",
       "</table>\n",
       "</div>"
      ],
      "text/plain": [
       "                                              is_churn  city  bd gender  \\\n",
       "msno                                                                      \n",
       "++0wqjjQge1mBBe5r4ciHGKwtF/m322zkra7CK8I+Mw=         0   NaN NaN    NaN   \n",
       "++1Wu2wKBA60W9F9sMh15RXmh1wN1fjoVGzNqvw/Gro=         0   NaN NaN    NaN   \n",
       "++2Ju1OdxLSyexwhZ/C0glNK0DMIfUjsFpk9lt8Dll8=         0   NaN NaN    NaN   \n",
       "++4wuAZmfzMBjRHP4vDpTk+jkj9Xam8SW5rNJrGFEsE=         0   NaN NaN    NaN   \n",
       "++5XBxbJNz3idK9egVoGbWJ4xhGQu2MR0pSP0kL9DK4=         0   NaN NaN    NaN   \n",
       "\n",
       "                                              registered_via  \\\n",
       "msno                                                           \n",
       "++0wqjjQge1mBBe5r4ciHGKwtF/m322zkra7CK8I+Mw=             NaN   \n",
       "++1Wu2wKBA60W9F9sMh15RXmh1wN1fjoVGzNqvw/Gro=             NaN   \n",
       "++2Ju1OdxLSyexwhZ/C0glNK0DMIfUjsFpk9lt8Dll8=             NaN   \n",
       "++4wuAZmfzMBjRHP4vDpTk+jkj9Xam8SW5rNJrGFEsE=             NaN   \n",
       "++5XBxbJNz3idK9egVoGbWJ4xhGQu2MR0pSP0kL9DK4=             NaN   \n",
       "\n",
       "                                             registration_init_time  \n",
       "msno                                                                 \n",
       "++0wqjjQge1mBBe5r4ciHGKwtF/m322zkra7CK8I+Mw=                    NaT  \n",
       "++1Wu2wKBA60W9F9sMh15RXmh1wN1fjoVGzNqvw/Gro=                    NaT  \n",
       "++2Ju1OdxLSyexwhZ/C0glNK0DMIfUjsFpk9lt8Dll8=                    NaT  \n",
       "++4wuAZmfzMBjRHP4vDpTk+jkj9Xam8SW5rNJrGFEsE=                    NaT  \n",
       "++5XBxbJNz3idK9egVoGbWJ4xhGQu2MR0pSP0kL9DK4=                    NaT  "
      ]
     },
     "execution_count": 81,
     "metadata": {},
     "output_type": "execute_result"
    }
   ],
   "source": [
    "df_total[df_total.city.isnull()].head(npartitions=5)"
   ]
  },
  {
   "cell_type": "code",
   "execution_count": 82,
   "metadata": {},
   "outputs": [],
   "source": [
    "df_total2 = dd.merge(df_total,df_trans2,right_index=True,left_index=True,how='left')"
   ]
  },
  {
   "cell_type": "code",
   "execution_count": 83,
   "metadata": {},
   "outputs": [
    {
     "name": "stderr",
     "output_type": "stream",
     "text": [
      "/Users/yhhsu/Anaconda/anaconda/envs/ph2t/lib/python3.6/site-packages/numpy/lib/function_base.py:4269: RuntimeWarning: Invalid value encountered in percentile\n",
      "  interpolation=interpolation)\n"
     ]
    }
   ],
   "source": [
    "df2_describe = df_total2.describe().compute()"
   ]
  },
  {
   "cell_type": "code",
   "execution_count": 84,
   "metadata": {},
   "outputs": [
    {
     "data": {
      "text/html": [
       "<div>\n",
       "<style scoped>\n",
       "    .dataframe tbody tr th:only-of-type {\n",
       "        vertical-align: middle;\n",
       "    }\n",
       "\n",
       "    .dataframe tbody tr th {\n",
       "        vertical-align: top;\n",
       "    }\n",
       "\n",
       "    .dataframe thead th {\n",
       "        text-align: right;\n",
       "    }\n",
       "</style>\n",
       "<table border=\"1\" class=\"dataframe\">\n",
       "  <thead>\n",
       "    <tr style=\"text-align: right;\">\n",
       "      <th></th>\n",
       "      <th>is_churn</th>\n",
       "      <th>city</th>\n",
       "      <th>bd</th>\n",
       "      <th>registered_via</th>\n",
       "      <th>payment_method_id</th>\n",
       "      <th>payment_plan_days</th>\n",
       "      <th>plan_list_price</th>\n",
       "      <th>actual_amount_paid</th>\n",
       "      <th>is_auto_renew</th>\n",
       "      <th>is_cancel</th>\n",
       "    </tr>\n",
       "  </thead>\n",
       "  <tbody>\n",
       "    <tr>\n",
       "      <th>count</th>\n",
       "      <td>1.169418e+06</td>\n",
       "      <td>1.052582e+06</td>\n",
       "      <td>1.052582e+06</td>\n",
       "      <td>1.052582e+06</td>\n",
       "      <td>1.132036e+06</td>\n",
       "      <td>1.132036e+06</td>\n",
       "      <td>1.132036e+06</td>\n",
       "      <td>1.132036e+06</td>\n",
       "      <td>1.132036e+06</td>\n",
       "      <td>1.132036e+06</td>\n",
       "    </tr>\n",
       "    <tr>\n",
       "      <th>mean</th>\n",
       "      <td>1.222899e-01</td>\n",
       "      <td>6.256564e+00</td>\n",
       "      <td>1.435392e+01</td>\n",
       "      <td>6.905842e+00</td>\n",
       "      <td>3.887682e+01</td>\n",
       "      <td>3.356030e+01</td>\n",
       "      <td>1.455336e+02</td>\n",
       "      <td>1.450239e+02</td>\n",
       "      <td>9.163012e-01</td>\n",
       "      <td>2.904766e-02</td>\n",
       "    </tr>\n",
       "    <tr>\n",
       "      <th>std</th>\n",
       "      <td>3.276205e-01</td>\n",
       "      <td>6.538549e+00</td>\n",
       "      <td>2.034310e+01</td>\n",
       "      <td>1.946620e+00</td>\n",
       "      <td>3.877857e+00</td>\n",
       "      <td>3.179832e+01</td>\n",
       "      <td>1.331882e+02</td>\n",
       "      <td>1.333376e+02</td>\n",
       "      <td>2.769356e-01</td>\n",
       "      <td>1.679402e-01</td>\n",
       "    </tr>\n",
       "    <tr>\n",
       "      <th>min</th>\n",
       "      <td>0.000000e+00</td>\n",
       "      <td>1.000000e+00</td>\n",
       "      <td>-3.152000e+03</td>\n",
       "      <td>3.000000e+00</td>\n",
       "      <td>3.000000e+00</td>\n",
       "      <td>0.000000e+00</td>\n",
       "      <td>0.000000e+00</td>\n",
       "      <td>0.000000e+00</td>\n",
       "      <td>0.000000e+00</td>\n",
       "      <td>0.000000e+00</td>\n",
       "    </tr>\n",
       "    <tr>\n",
       "      <th>25%</th>\n",
       "      <td>0.000000e+00</td>\n",
       "      <td>NaN</td>\n",
       "      <td>NaN</td>\n",
       "      <td>NaN</td>\n",
       "      <td>NaN</td>\n",
       "      <td>NaN</td>\n",
       "      <td>NaN</td>\n",
       "      <td>NaN</td>\n",
       "      <td>NaN</td>\n",
       "      <td>NaN</td>\n",
       "    </tr>\n",
       "    <tr>\n",
       "      <th>50%</th>\n",
       "      <td>0.000000e+00</td>\n",
       "      <td>NaN</td>\n",
       "      <td>NaN</td>\n",
       "      <td>NaN</td>\n",
       "      <td>NaN</td>\n",
       "      <td>NaN</td>\n",
       "      <td>NaN</td>\n",
       "      <td>NaN</td>\n",
       "      <td>NaN</td>\n",
       "      <td>NaN</td>\n",
       "    </tr>\n",
       "    <tr>\n",
       "      <th>75%</th>\n",
       "      <td>0.000000e+00</td>\n",
       "      <td>4.000000e+00</td>\n",
       "      <td>2.600000e+01</td>\n",
       "      <td>3.000000e+00</td>\n",
       "      <td>4.000000e+01</td>\n",
       "      <td>3.000000e+01</td>\n",
       "      <td>1.490000e+02</td>\n",
       "      <td>1.490000e+02</td>\n",
       "      <td>1.000000e+00</td>\n",
       "      <td>0.000000e+00</td>\n",
       "    </tr>\n",
       "    <tr>\n",
       "      <th>max</th>\n",
       "      <td>1.000000e+00</td>\n",
       "      <td>2.200000e+01</td>\n",
       "      <td>2.016000e+03</td>\n",
       "      <td>1.300000e+01</td>\n",
       "      <td>4.100000e+01</td>\n",
       "      <td>4.500000e+02</td>\n",
       "      <td>2.000000e+03</td>\n",
       "      <td>2.000000e+03</td>\n",
       "      <td>1.000000e+00</td>\n",
       "      <td>1.000000e+00</td>\n",
       "    </tr>\n",
       "  </tbody>\n",
       "</table>\n",
       "</div>"
      ],
      "text/plain": [
       "           is_churn          city            bd  registered_via  \\\n",
       "count  1.169418e+06  1.052582e+06  1.052582e+06    1.052582e+06   \n",
       "mean   1.222899e-01  6.256564e+00  1.435392e+01    6.905842e+00   \n",
       "std    3.276205e-01  6.538549e+00  2.034310e+01    1.946620e+00   \n",
       "min    0.000000e+00  1.000000e+00 -3.152000e+03    3.000000e+00   \n",
       "25%    0.000000e+00           NaN           NaN             NaN   \n",
       "50%    0.000000e+00           NaN           NaN             NaN   \n",
       "75%    0.000000e+00  4.000000e+00  2.600000e+01    3.000000e+00   \n",
       "max    1.000000e+00  2.200000e+01  2.016000e+03    1.300000e+01   \n",
       "\n",
       "       payment_method_id  payment_plan_days  plan_list_price  \\\n",
       "count       1.132036e+06       1.132036e+06     1.132036e+06   \n",
       "mean        3.887682e+01       3.356030e+01     1.455336e+02   \n",
       "std         3.877857e+00       3.179832e+01     1.331882e+02   \n",
       "min         3.000000e+00       0.000000e+00     0.000000e+00   \n",
       "25%                  NaN                NaN              NaN   \n",
       "50%                  NaN                NaN              NaN   \n",
       "75%         4.000000e+01       3.000000e+01     1.490000e+02   \n",
       "max         4.100000e+01       4.500000e+02     2.000000e+03   \n",
       "\n",
       "       actual_amount_paid  is_auto_renew     is_cancel  \n",
       "count        1.132036e+06   1.132036e+06  1.132036e+06  \n",
       "mean         1.450239e+02   9.163012e-01  2.904766e-02  \n",
       "std          1.333376e+02   2.769356e-01  1.679402e-01  \n",
       "min          0.000000e+00   0.000000e+00  0.000000e+00  \n",
       "25%                   NaN            NaN           NaN  \n",
       "50%                   NaN            NaN           NaN  \n",
       "75%          1.490000e+02   1.000000e+00  0.000000e+00  \n",
       "max          2.000000e+03   1.000000e+00  1.000000e+00  "
      ]
     },
     "execution_count": 84,
     "metadata": {},
     "output_type": "execute_result"
    }
   ],
   "source": [
    "df2_describe"
   ]
  },
  {
   "cell_type": "code",
   "execution_count": null,
   "metadata": {
    "collapsed": true
   },
   "outputs": [],
   "source": [
    "df_2 "
   ]
  },
  {
   "cell_type": "code",
   "execution_count": null,
   "metadata": {},
   "outputs": [],
   "source": [
    "label = gender_count.index\n",
    "count = gender_count.values\n",
    "plt.figure(figsize=(8,8))\n",
    "plt.pie(count,labels=label,autopct='%1.1f%%',shadow=True,radius=20)\n",
    "plt.axis('equal')\n",
    "plt.show()"
   ]
  },
  {
   "cell_type": "code",
   "execution_count": null,
   "metadata": {
    "scrolled": true
   },
   "outputs": [],
   "source": [
    "# 326 unique value, 0 as largest group \n",
    "# bd : age some outlier shows in the data\n",
    "mask = df_member.db > 100, \n",
    "df_member.bd.loc[df.memory_usage].value_counts().compute()"
   ]
  },
  {
   "cell_type": "code",
   "execution_count": null,
   "metadata": {},
   "outputs": [],
   "source": [
    "df_member.bd.isnull().sum().compute()"
   ]
  },
  {
   "cell_type": "code",
   "execution_count": null,
   "metadata": {
    "collapsed": true
   },
   "outputs": [],
   "source": [
    "df_member.gender"
   ]
  }
 ],
 "metadata": {
  "anaconda-cloud": {},
  "kernelspec": {
   "display_name": "Python 3",
   "language": "python",
   "name": "python3"
  },
  "language_info": {
   "codemirror_mode": {
    "name": "ipython",
    "version": 3
   },
   "file_extension": ".py",
   "mimetype": "text/x-python",
   "name": "python",
   "nbconvert_exporter": "python",
   "pygments_lexer": "ipython3",
   "version": "3.6.4"
  }
 },
 "nbformat": 4,
 "nbformat_minor": 1
}
